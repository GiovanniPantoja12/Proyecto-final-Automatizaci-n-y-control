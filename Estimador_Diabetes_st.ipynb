{
  "nbformat": 4,
  "nbformat_minor": 0,
  "metadata": {
    "colab": {
      "provenance": [],
      "include_colab_link": true
    },
    "kernelspec": {
      "name": "python3",
      "display_name": "Python 3"
    },
    "language_info": {
      "name": "python"
    }
  },
  "cells": [
    {
      "cell_type": "markdown",
      "metadata": {
        "id": "view-in-github",
        "colab_type": "text"
      },
      "source": [
        "<a href=\"https://colab.research.google.com/github/GiovanniPantoja12/Proyecto-final-Automatizaci-n-y-control/blob/main/Estimador_Diabetes_st.ipynb\" target=\"_parent\"><img src=\"https://colab.research.google.com/assets/colab-badge.svg\" alt=\"Open In Colab\"/></a>"
      ]
    },
    {
      "cell_type": "code",
      "source": [
        "# Se instala la libreria streamlit\n",
        "!pip install -q streamlit"
      ],
      "metadata": {
        "id": "ZTzwhBSlqKFg",
        "outputId": "b8ec7fa1-361d-4e23-f8d7-da4bbb106645",
        "colab": {
          "base_uri": "https://localhost:8080/"
        }
      },
      "execution_count": null,
      "outputs": [
        {
          "output_type": "stream",
          "name": "stdout",
          "text": [
            "\u001b[2K     \u001b[90m━━━━━━━━━━━━━━━━━━━━━━━━━━━━━━━━━━━━━━━━\u001b[0m \u001b[32m8.4/8.4 MB\u001b[0m \u001b[31m24.2 MB/s\u001b[0m eta \u001b[36m0:00:00\u001b[0m\n",
            "\u001b[2K     \u001b[90m━━━━━━━━━━━━━━━━━━━━━━━━━━━━━━━━━━━━━━━━\u001b[0m \u001b[32m196.4/196.4 kB\u001b[0m \u001b[31m11.4 MB/s\u001b[0m eta \u001b[36m0:00:00\u001b[0m\n",
            "\u001b[2K     \u001b[90m━━━━━━━━━━━━━━━━━━━━━━━━━━━━━━━━━━━━━━━━\u001b[0m \u001b[32m4.8/4.8 MB\u001b[0m \u001b[31m37.7 MB/s\u001b[0m eta \u001b[36m0:00:00\u001b[0m\n",
            "\u001b[2K     \u001b[90m━━━━━━━━━━━━━━━━━━━━━━━━━━━━━━━━━━━━━━━━\u001b[0m \u001b[32m82.1/82.1 kB\u001b[0m \u001b[31m8.6 MB/s\u001b[0m eta \u001b[36m0:00:00\u001b[0m\n",
            "\u001b[2K     \u001b[90m━━━━━━━━━━━━━━━━━━━━━━━━━━━━━━━━━━━━━━━━\u001b[0m \u001b[32m62.7/62.7 kB\u001b[0m \u001b[31m7.8 MB/s\u001b[0m eta \u001b[36m0:00:00\u001b[0m\n",
            "\u001b[?25h"
          ]
        }
      ]
    },
    {
      "cell_type": "code",
      "source": [
        "# Instalación de la herramienta localtunnel para exponer localmente el servidor web a través de Internet.\n",
        "# Permite compartir el desarrollo web local con otras personas para pruebas o demostraciones.\n",
        "!npm install localtunnel"
      ],
      "metadata": {
        "colab": {
          "base_uri": "https://localhost:8080/"
        },
        "id": "dccM8GcMqRPF",
        "outputId": "9e26de24-c8c2-46e9-fada-7b20168a0aee"
      },
      "execution_count": null,
      "outputs": [
        {
          "output_type": "stream",
          "name": "stdout",
          "text": [
            "\u001b[K\u001b[?25h\u001b[37;40mnpm\u001b[0m \u001b[0m\u001b[30;43mWARN\u001b[0m \u001b[0m\u001b[35msaveError\u001b[0m ENOENT: no such file or directory, open '/content/package.json'\n",
            "\u001b[0m\u001b[37;40mnpm\u001b[0m \u001b[0m\u001b[30;43mWARN\u001b[0m \u001b[0m\u001b[35menoent\u001b[0m ENOENT: no such file or directory, open '/content/package.json'\n",
            "\u001b[0m\u001b[37;40mnpm\u001b[0m \u001b[0m\u001b[30;43mWARN\u001b[0m\u001b[35m\u001b[0m content No description\n",
            "\u001b[0m\u001b[37;40mnpm\u001b[0m \u001b[0m\u001b[30;43mWARN\u001b[0m\u001b[35m\u001b[0m content No repository field.\n",
            "\u001b[0m\u001b[37;40mnpm\u001b[0m \u001b[0m\u001b[30;43mWARN\u001b[0m\u001b[35m\u001b[0m content No README data\n",
            "\u001b[0m\u001b[37;40mnpm\u001b[0m \u001b[0m\u001b[30;43mWARN\u001b[0m\u001b[35m\u001b[0m content No license field.\n",
            "\u001b[0m\n",
            "+ localtunnel@2.0.2\n",
            "updated 1 package and audited 36 packages in 0.703s\n",
            "\n",
            "3 packages are looking for funding\n",
            "  run `npm fund` for details\n",
            "\n",
            "found 2 \u001b[93mmoderate\u001b[0m severity vulnerabilities\n",
            "  run `npm audit fix` to fix them, or `npm audit` for details\n",
            "\u001b[K\u001b[?25h"
          ]
        }
      ]
    },
    {
      "cell_type": "code",
      "source": [
        "#Aplicación del modelo y posterior creación de interfaz con streamlit\n",
        "%%writefile app.py\n",
        "\n",
        "import streamlit as st\n",
        "from os import read\n",
        "import sqlite3\n",
        "import pandas as pd\n",
        "from sklearn.ensemble import RandomForestClassifier\n",
        "from sklearn.metrics import accuracy_score, classification_report,confusion_matrix;\n",
        "from imblearn.over_sampling import SMOTE\n",
        "from sklearn.preprocessing import StandardScaler\n",
        "from sklearn.model_selection import train_test_split\n",
        "\n",
        "# Conexion\n",
        "conexion = sqlite3.connect('datos.db')\n",
        "\n",
        "# Codigo sql para hacer consulta\n",
        "\n",
        "query = \"\"\"\n",
        "SELECT\n",
        "\n",
        "edad,\n",
        "hipertension,\n",
        "enfermedad_corazon,\n",
        "bmi,\n",
        "HbA1c_nivel,\n",
        "nivel_glucosa_sangre,\n",
        "diabetes\n",
        "FROM NUEVA_TABLA\n",
        "\n",
        "\"\"\"\n",
        "\n",
        "dataset = pd.read_sql_query(query,conexion)\n",
        "\n",
        "X = dataset.drop(['diabetes'], axis=1)\n",
        "Y = dataset['diabetes']\n",
        "\n",
        "X_Train, X_Test, Y_Train, Y_Test = train_test_split(X, Y, test_size=0.2, random_state=10)\n",
        "\n",
        "# Modelo RandomForest\n",
        "modelo_rf = RandomForestClassifier( n_estimators=120,  # Puedes ajustar este valor\n",
        "    max_depth=50,    # Puedes ajustar este valor\n",
        "    min_samples_split=2,  # Puedes ajustar este valor\n",
        "    min_samples_leaf=1,   # Puedes ajustar este valor\n",
        "    random_state=1)\n",
        "\n",
        "modelo_rf.fit(X_Train, Y_Train)\n",
        "\n",
        "# Predicciones y evaluación del modelo\n",
        "predicciones_rf = modelo_rf.predict(X_Test)\n",
        "\n",
        "# accuracy\n",
        "accuracy= accuracy_score(Y_Test,predicciones_rf)\n",
        "\n",
        "# Desarrollo del codigo para streamlit\n",
        "\n",
        "st.title(\"Predicción de Diabetes\")\n",
        "st.write('Formulario para conocer si eres propenso a diabetes')\n",
        "\n",
        "edad = st.slider(\"Edad\", 0, 100, 30)\n",
        "hipertension = st.checkbox(\"Hipertensión\")\n",
        "enfermedad_corazon = st.checkbox(\"Enfermedad del corazón\")\n",
        "\n",
        "st.write('Calcula tu indice BMI')\n",
        "def calcular_imc(peso, altura):\n",
        "    \"\"\"\n",
        "    Calcula el índice de masa corporal (BMI).\n",
        "    \"\"\"\n",
        "    if peso <= 0 or altura <= 0:\n",
        "        return None\n",
        "    else:\n",
        "        imc = peso / (altura / 100) ** 2\n",
        "        return round(imc, 2)\n",
        "\n",
        "# Interfaz de Streamlit\n",
        "st.subheader(\"Calculadora de BMI\")\n",
        "\n",
        "# Entradas de usuario\n",
        "peso = st.number_input(\"Ingrese su peso (kg)\", min_value=1, step=1)\n",
        "altura = st.number_input(\"Ingrese su altura (cm)\", min_value=1, step=1)\n",
        "\n",
        "# Calcular BMI y mostrar el resultado\n",
        "if st.button(\"Calcular IMC\"):\n",
        "    imc_resultado = calcular_imc(peso, altura)\n",
        "    if imc_resultado is not None:\n",
        "        st.success(f\"Su IMC es: {imc_resultado}\")\n",
        "        st.write(\"Interpretación del BMI:\")\n",
        "\n",
        "bmi = st.slider(\"Índice de masa corporal (BMI)\", 10.0, 50.0, 25.0)\n",
        "hba1c_nivel = st.slider(\"Nivel de HbA1c\", 4.0, 10.0, 5.0)\n",
        "nivel_glucosa_sangre = st.slider(\"Nivel de glucosa en sangre\", 50, 300, 100)\n",
        "\n",
        "# Predecir si tiene diabetes o no\n",
        "nuevos_datos = [[edad, hipertension, enfermedad_corazon, bmi, hba1c_nivel, nivel_glucosa_sangre]]\n",
        "resultado = modelo_rf.predict(nuevos_datos)\n",
        "\n",
        "# Mostrar el resultado\n",
        "\n",
        "st.button(\"CANCELAR\")\n",
        "if st.button('DIAGNOSTICO', type=\"primary\"):\n",
        "    if resultado[0] == 0:\n",
        "        st.write(\"No tiene diabetes.\")\n",
        "    else:\n",
        "        st.write(\"Tiene diabetes.\")\n",
        "else:\n",
        "    st.write('Rellene los datos nuevamente')\n"
      ],
      "metadata": {
        "colab": {
          "base_uri": "https://localhost:8080/"
        },
        "id": "gVm0MPTSqQFy",
        "outputId": "42f0f1fb-9fa0-45e0-beeb-1403cf248f94"
      },
      "execution_count": null,
      "outputs": [
        {
          "output_type": "stream",
          "name": "stdout",
          "text": [
            "Overwriting app.py\n"
          ]
        }
      ]
    },
    {
      "cell_type": "code",
      "source": [
        "# Se inicia la aplicación Streamlit y se utiliza LocalTunnel para exponerla a Internet. Se obtiene una URL que puede ser compartida.\n",
        "!streamlit run app.py --server.address=localhost &>/content/logs.txt & npx localtunnel --port 8501 & curl ipv4.icanhazip.com"
      ],
      "metadata": {
        "colab": {
          "base_uri": "https://localhost:8080/"
        },
        "id": "i0mSifrJqmeQ",
        "outputId": "6f2e4d78-5985-4619-f3b6-7a89012a7f65"
      },
      "execution_count": null,
      "outputs": [
        {
          "output_type": "stream",
          "name": "stdout",
          "text": [
            "34.125.79.184\n",
            "\u001b[K\u001b[?25hnpx: installed 22 in 2.703s\n",
            "your url is: https://tiny-ducks-stop.loca.lt\n"
          ]
        }
      ]
    }
  ]
}